{
 "cells": [
  {
   "cell_type": "code",
   "execution_count": 2,
   "metadata": {},
   "outputs": [
    {
     "name": "stdout",
     "output_type": "stream",
     "text": [
      "El asteroide se acerca demaciado rapido \n"
     ]
    }
   ],
   "source": [
    "velo_asteroide = 49\n",
    "if velo_asteroide > 25:\n",
    "    print(\"El asteroide se acerca demaciado rapido \")\n",
    "else:\n",
    "    print  (\"No exite ningun peligro velocidad dentro el rango\")"
   ]
  },
  {
   "cell_type": "code",
   "execution_count": 34,
   "metadata": {},
   "outputs": [
    {
     "name": "stdout",
     "output_type": "stream",
     "text": [
      "Nada que ver aquí\n"
     ]
    }
   ],
   "source": [
    "asteroide = 19\n",
    "if asteroide > 20:\n",
    "    print('¡Hay una luz mágica en el cielo')\n",
    "elif asteroide == 20:\n",
    "    print('Hay una luz mágica en el cielo')\n",
    "else:\n",
    "    print('Nada que ver aquí')"
   ]
  },
  {
   "cell_type": "code",
   "execution_count": 31,
   "metadata": {},
   "outputs": [
    {
     "name": "stdout",
     "output_type": "stream",
     "text": [
      "hay una luz magica en el cielo\n"
     ]
    }
   ],
   "source": [
    "velo_asteroide = 25\n",
    "dimencionasteroide = 40\n",
    " \n",
    "\n",
    "if(dimencionasteroide < 25):\n",
    "    print (\"No pasa nada\")\n",
    "elif (dimencionasteroide > 25 and dimencionasteroide < 1000  and velo_asteroide > 25 ):\n",
    "    print (\" El asteroide se acerca demaciado rapido y Golpeara la tierra causando  mucho daño \") \n",
    "elif ( velo_asteroide >=20 ):\n",
    "    print(\"hay una luz magica en el cielo\")\n",
    "else :\n",
    "    print (\"Todo tranquilo\")\n"
   ]
  }
 ],
 "metadata": {
  "interpreter": {
   "hash": "4d3f9e6569200205d55be92ee81f1d602a456b8c74a401947af61f61e56928e7"
  },
  "kernelspec": {
   "display_name": "Python 3.10.0 64-bit",
   "language": "python",
   "name": "python3"
  },
  "language_info": {
   "codemirror_mode": {
    "name": "ipython",
    "version": 3
   },
   "file_extension": ".py",
   "mimetype": "text/x-python",
   "name": "python",
   "nbconvert_exporter": "python",
   "pygments_lexer": "ipython3",
   "version": "3.10.0"
  },
  "orig_nbformat": 4
 },
 "nbformat": 4,
 "nbformat_minor": 2
}
